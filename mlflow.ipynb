{
 "cells": [
  {
   "cell_type": "markdown",
   "id": "collaborative-relations",
   "metadata": {},
   "source": [
    "## REST API"
   ]
  },
  {
   "cell_type": "code",
   "execution_count": 1,
   "id": "roman-reliance",
   "metadata": {},
   "outputs": [],
   "source": [
    "import requests\n",
    "import time\n",
    "import json\n",
    "import os\n",
    "import boto3"
   ]
  },
  {
   "cell_type": "code",
   "execution_count": 31,
   "id": "compound-intention",
   "metadata": {},
   "outputs": [],
   "source": [
    "# TODO\n",
    "base_url = \"http://0.0.0.0:8001/api/2.0/\"\n",
    "username = \"\"\n",
    "password = \"\""
   ]
  },
  {
   "cell_type": "markdown",
   "id": "clean-technician",
   "metadata": {},
   "source": [
    "### Create Experiment "
   ]
  },
  {
   "cell_type": "code",
   "execution_count": 4,
   "id": "reflected-butter",
   "metadata": {},
   "outputs": [],
   "source": [
    "payload = {'name':'rest-demo'}"
   ]
  },
  {
   "cell_type": "code",
   "execution_count": 5,
   "id": "adjustable-syndication",
   "metadata": {},
   "outputs": [],
   "source": [
    "response = requests.post(base_url + \"mlflow/experiments/create\", data=json.dumps(payload), auth=(username, password))"
   ]
  },
  {
   "cell_type": "code",
   "execution_count": 6,
   "id": "legendary-denmark",
   "metadata": {},
   "outputs": [
    {
     "name": "stdout",
     "output_type": "stream",
     "text": [
      "{'experiment_id': '5'}\n"
     ]
    }
   ],
   "source": [
    "print(response.json())"
   ]
  },
  {
   "cell_type": "markdown",
   "id": "individual-credit",
   "metadata": {},
   "source": [
    "### Create Model"
   ]
  },
  {
   "cell_type": "code",
   "execution_count": 19,
   "id": "apart-thought",
   "metadata": {},
   "outputs": [],
   "source": [
    "payload = {'name':'matching algorithm',\n",
    "          'description':'match drivers to tasks'}"
   ]
  },
  {
   "cell_type": "code",
   "execution_count": 20,
   "id": "under-motel",
   "metadata": {},
   "outputs": [],
   "source": [
    "response = requests.post(base_url + \"preview/mlflow/registered-models/create\", data=json.dumps(payload), auth=(username, password))"
   ]
  },
  {
   "cell_type": "code",
   "execution_count": 21,
   "id": "sensitive-western",
   "metadata": {},
   "outputs": [
    {
     "name": "stdout",
     "output_type": "stream",
     "text": [
      "{'registered_model': {'name': 'matching algorithm', 'creation_timestamp': '1617652051375', 'last_updated_timestamp': '1617652051375', 'description': 'match drivers to tasks'}}\n"
     ]
    }
   ],
   "source": [
    "print(response.json())"
   ]
  },
  {
   "cell_type": "markdown",
   "id": "documentary-evanescence",
   "metadata": {},
   "source": [
    "### Create New Run"
   ]
  },
  {
   "cell_type": "code",
   "execution_count": 7,
   "id": "silent-pittsburgh",
   "metadata": {},
   "outputs": [
    {
     "name": "stdout",
     "output_type": "stream",
     "text": [
      "1617648987433\n"
     ]
    }
   ],
   "source": [
    "seconds = int(time.time()*1000)\n",
    "print(seconds)"
   ]
  },
  {
   "cell_type": "code",
   "execution_count": 8,
   "id": "fatal-doubt",
   "metadata": {},
   "outputs": [],
   "source": [
    "payload = {\"name\": \"rest-demo\",\n",
    "\"experiment_id\":\"5\",\n",
    "\"start_time\":seconds}"
   ]
  },
  {
   "cell_type": "code",
   "execution_count": 9,
   "id": "right-problem",
   "metadata": {},
   "outputs": [],
   "source": [
    "response = requests.post(base_url + \"mlflow/runs/create\", data=json.dumps(payload), auth=(username, password))"
   ]
  },
  {
   "cell_type": "code",
   "execution_count": 10,
   "id": "adult-egyptian",
   "metadata": {},
   "outputs": [
    {
     "name": "stdout",
     "output_type": "stream",
     "text": [
      "{'run': {'info': {'run_uuid': 'c8c322ee8e904e64a13b4bb7174e671b', 'experiment_id': '5', 'user_id': '', 'status': 'RUNNING', 'start_time': '1617648987433', 'artifact_uri': 's3://mlflow-csco-test/5/c8c322ee8e904e64a13b4bb7174e671b/artifacts', 'lifecycle_stage': 'active', 'run_id': 'c8c322ee8e904e64a13b4bb7174e671b'}, 'data': {}}}\n"
     ]
    }
   ],
   "source": [
    "print(response.json())"
   ]
  },
  {
   "cell_type": "markdown",
   "id": "frozen-naples",
   "metadata": {},
   "source": [
    "### Log Run Parameters"
   ]
  },
  {
   "cell_type": "code",
   "execution_count": 12,
   "id": "responsible-legislature",
   "metadata": {},
   "outputs": [],
   "source": [
    "payload = {\"run_id\": \"c8c322ee8e904e64a13b4bb7174e671b\",\n",
    "          \"key\":\"parameter1\",\n",
    "          \"value\":\"parameter1_value\"}"
   ]
  },
  {
   "cell_type": "code",
   "execution_count": 13,
   "id": "invalid-making",
   "metadata": {},
   "outputs": [],
   "source": [
    "response = requests.post(base_url + \"mlflow/runs/log-parameter\", data=json.dumps(payload), auth=(username, password))"
   ]
  },
  {
   "cell_type": "code",
   "execution_count": 15,
   "id": "floral-singapore",
   "metadata": {},
   "outputs": [
    {
     "name": "stdout",
     "output_type": "stream",
     "text": [
      "{}\n"
     ]
    }
   ],
   "source": [
    "print(response.json())"
   ]
  },
  {
   "cell_type": "markdown",
   "id": "ambient-momentum",
   "metadata": {},
   "source": [
    "### Log Run Metric"
   ]
  },
  {
   "cell_type": "code",
   "execution_count": 23,
   "id": "metallic-attribute",
   "metadata": {},
   "outputs": [],
   "source": [
    "payload = {\"run_id\": \"c8c322ee8e904e64a13b4bb7174e671b\",\n",
    "          \"key\":\"metric1\",\n",
    "          \"value\":\"100\"} # metric value must be numeric"
   ]
  },
  {
   "cell_type": "code",
   "execution_count": 21,
   "id": "distributed-baker",
   "metadata": {},
   "outputs": [],
   "source": [
    "response = requests.post(base_url + \"mlflow/runs/log-metric\", data=json.dumps(payload), auth=(username, password))"
   ]
  },
  {
   "cell_type": "code",
   "execution_count": 22,
   "id": "finnish-bruce",
   "metadata": {},
   "outputs": [
    {
     "name": "stdout",
     "output_type": "stream",
     "text": [
      "{}\n"
     ]
    }
   ],
   "source": [
    "print(response.json())"
   ]
  },
  {
   "cell_type": "markdown",
   "id": "optical-pierce",
   "metadata": {},
   "source": [
    "### Log Artifact"
   ]
  },
  {
   "cell_type": "code",
   "execution_count": 32,
   "id": "current-defendant",
   "metadata": {},
   "outputs": [],
   "source": [
    "# TODO\n",
    "os.environ['AWS_ACCESS_KEY_ID']=''\n",
    "os.environ['AWS_SECRET_ACCESS_KEY']=''\n",
    "os.environ['AWS_SESSION_TOKEN']=''"
   ]
  },
  {
   "cell_type": "code",
   "execution_count": 3,
   "id": "psychological-isaac",
   "metadata": {},
   "outputs": [],
   "source": [
    "# https://boto3.amazonaws.com/v1/documentation/api/latest/guide/s3-uploading-files.html\n",
    "def upload_file(file_name, bucket, object_name=None):\n",
    "    \"\"\"Upload a file to an S3 bucket\n",
    "\n",
    "    :param file_name: File to upload\n",
    "    :param bucket: Bucket to upload to\n",
    "    :param object_name: S3 object name. If not specified then file_name is used\n",
    "    :return: True if file was uploaded, else False\n",
    "    \"\"\"\n",
    "\n",
    "    # If S3 object_name was not specified, use file_name\n",
    "    if object_name is None:\n",
    "        object_name = file_name\n",
    "\n",
    "    # Upload the file\n",
    "    s3_client = boto3.client('s3')\n",
    "    try:\n",
    "        response = s3_client.upload_file(file_name, bucket, object_name)\n",
    "    except ClientError as e:\n",
    "        logging.error(e)\n",
    "        return False\n",
    "    return True"
   ]
  },
  {
   "cell_type": "code",
   "execution_count": 17,
   "id": "whole-spanish",
   "metadata": {},
   "outputs": [
    {
     "data": {
      "text/plain": [
       "True"
      ]
     },
     "execution_count": 17,
     "metadata": {},
     "output_type": "execute_result"
    }
   ],
   "source": [
    "upload_file('requirements.txt', 'mlflow-csco-test', '5/c8c322ee8e904e64a13b4bb7174e671b/artifacts/requirements.txt')"
   ]
  },
  {
   "cell_type": "markdown",
   "id": "julian-holocaust",
   "metadata": {},
   "source": [
    "### Create Model Version"
   ]
  },
  {
   "cell_type": "code",
   "execution_count": 23,
   "id": "overhead-dragon",
   "metadata": {},
   "outputs": [],
   "source": [
    "payload = {\"name\":\"matching algorithm\",\n",
    "           \"source\":\"s3://mlflow-csco-test/5/c8c322ee8e904e64a13b4bb7174e671b/artifacts/requirements.txt\",\n",
    "           \"run_id\": \"c8c322ee8e904e64a13b4bb7174e671b\",\n",
    "           \"run_link\": \"http://0.0.0.0:8001/#/experiments/5/runs/c8c322ee8e904e64a13b4bb7174e671b\"}"
   ]
  },
  {
   "cell_type": "code",
   "execution_count": 24,
   "id": "opponent-calvin",
   "metadata": {},
   "outputs": [],
   "source": [
    "response = requests.post(base_url + \"preview/mlflow/model-versions/create\", data=json.dumps(payload), auth=(username, password))"
   ]
  },
  {
   "cell_type": "code",
   "execution_count": 25,
   "id": "developmental-taylor",
   "metadata": {},
   "outputs": [
    {
     "name": "stdout",
     "output_type": "stream",
     "text": [
      "{'model_version': {'name': 'matching algorithm', 'version': '1', 'creation_timestamp': '1617652209042', 'last_updated_timestamp': '1617652209042', 'current_stage': 'None', 'description': '', 'source': 's3://mlflow-csco-test/5/c8c322ee8e904e64a13b4bb7174e671b/artifacts/requirements.txt', 'run_id': 'c8c322ee8e904e64a13b4bb7174e671b', 'status': 'READY', 'run_link': 'http://0.0.0.0:8001/#/experiments/5/runs/c8c322ee8e904e64a13b4bb7174e671b'}}\n"
     ]
    }
   ],
   "source": [
    "print(response.json())"
   ]
  },
  {
   "cell_type": "markdown",
   "id": "multiple-justice",
   "metadata": {},
   "source": [
    "### Update Model Stage"
   ]
  },
  {
   "cell_type": "code",
   "execution_count": 26,
   "id": "chief-electricity",
   "metadata": {},
   "outputs": [],
   "source": [
    "payload = {\"name\":\"matching algorithm\",\n",
    "           \"version\":\"1\",\n",
    "           \"stage\": \"staging\"}"
   ]
  },
  {
   "cell_type": "code",
   "execution_count": 27,
   "id": "social-topic",
   "metadata": {},
   "outputs": [],
   "source": [
    "response = requests.post(base_url + \"preview/mlflow/model-versions/transition-stage\", data=json.dumps(payload), auth=(username, password))"
   ]
  },
  {
   "cell_type": "code",
   "execution_count": 28,
   "id": "ordered-abortion",
   "metadata": {},
   "outputs": [
    {
     "name": "stdout",
     "output_type": "stream",
     "text": [
      "{'model_version': {'name': 'matching algorithm', 'version': '1', 'creation_timestamp': '1617652209042', 'last_updated_timestamp': '1617652289197', 'current_stage': 'Staging', 'description': '', 'source': 's3://mlflow-csco-test/5/c8c322ee8e904e64a13b4bb7174e671b/artifacts/requirements.txt', 'run_id': 'c8c322ee8e904e64a13b4bb7174e671b', 'status': 'READY', 'run_link': 'http://0.0.0.0:8001/#/experiments/5/runs/c8c322ee8e904e64a13b4bb7174e671b'}}\n"
     ]
    }
   ],
   "source": [
    "print(response.json())"
   ]
  },
  {
   "cell_type": "markdown",
   "id": "included-intranet",
   "metadata": {},
   "source": [
    "### Update/End Run"
   ]
  },
  {
   "cell_type": "code",
   "execution_count": 7,
   "id": "finnish-essex",
   "metadata": {},
   "outputs": [],
   "source": [
    "seconds = int(time.time()*1000)\n",
    "#print(seconds)\n",
    "payload = {\"run_id\": \"c8c322ee8e904e64a13b4bb7174e671b\",\n",
    "          \"status\":\"FINISHED\",\n",
    "          \"end_time\":str(seconds)} "
   ]
  },
  {
   "cell_type": "code",
   "execution_count": 10,
   "id": "distinguished-honor",
   "metadata": {},
   "outputs": [],
   "source": [
    "response = requests.post(base_url + \"mlflow/runs/update\", data=json.dumps(payload), auth=(username, password))"
   ]
  },
  {
   "cell_type": "code",
   "execution_count": 11,
   "id": "quick-calcium",
   "metadata": {},
   "outputs": [
    {
     "name": "stdout",
     "output_type": "stream",
     "text": [
      "{'run_info': {'run_uuid': 'c8c322ee8e904e64a13b4bb7174e671b', 'experiment_id': '5', 'user_id': '', 'status': 'FINISHED', 'start_time': '1617648987433', 'end_time': '1617651700402', 'artifact_uri': 's3://mlflow-csco-test/5/c8c322ee8e904e64a13b4bb7174e671b/artifacts', 'lifecycle_stage': 'active', 'run_id': 'c8c322ee8e904e64a13b4bb7174e671b'}}\n"
     ]
    }
   ],
   "source": [
    "print(response.json())"
   ]
  },
  {
   "cell_type": "markdown",
   "id": "innovative-prague",
   "metadata": {},
   "source": [
    "## Python"
   ]
  },
  {
   "cell_type": "code",
   "execution_count": 12,
   "id": "patent-mason",
   "metadata": {},
   "outputs": [],
   "source": [
    "import mlflow\n",
    "import os"
   ]
  },
  {
   "cell_type": "code",
   "execution_count": 29,
   "id": "greenhouse-thesis",
   "metadata": {},
   "outputs": [],
   "source": [
    "# TODO\n",
    "os.environ['AWS_ACCESS_KEY_ID']=''\n",
    "os.environ['AWS_SECRET_ACCESS_KEY']=''\n",
    "os.environ['AWS_SESSION_TOKEN']=''"
   ]
  },
  {
   "cell_type": "code",
   "execution_count": 30,
   "id": "hybrid-metabolism",
   "metadata": {},
   "outputs": [],
   "source": [
    "# TODO\n",
    "os.environ['MLFLOW_TRACKING_USERNAME']=''\n",
    "os.environ['MLFLOW_TRACKING_PASSWORD']=''"
   ]
  },
  {
   "cell_type": "code",
   "execution_count": 15,
   "id": "noble-guidance",
   "metadata": {},
   "outputs": [],
   "source": [
    "mlflow.set_tracking_uri('http://0.0.0.0:8001')\n",
    "mlflow.set_experiment('replate-demo')"
   ]
  },
  {
   "cell_type": "code",
   "execution_count": 16,
   "id": "blind-somewhere",
   "metadata": {},
   "outputs": [],
   "source": [
    "with mlflow.start_run():\n",
    "    mlflow.log_artifact('requirements.txt')"
   ]
  }
 ],
 "metadata": {
  "kernelspec": {
   "display_name": "Python 3",
   "language": "python",
   "name": "python3"
  },
  "language_info": {
   "codemirror_mode": {
    "name": "ipython",
    "version": 3
   },
   "file_extension": ".py",
   "mimetype": "text/x-python",
   "name": "python",
   "nbconvert_exporter": "python",
   "pygments_lexer": "ipython3",
   "version": "3.8.5"
  }
 },
 "nbformat": 4,
 "nbformat_minor": 5
}
